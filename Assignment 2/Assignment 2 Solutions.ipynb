{
 "cells": [
  {
   "cell_type": "markdown",
   "metadata": {},
   "source": [
    "# Task 1"
   ]
  },
  {
   "cell_type": "markdown",
   "metadata": {},
   "source": [
    "## Q. 1.1"
   ]
  },
  {
   "cell_type": "code",
   "execution_count": 1,
   "metadata": {},
   "outputs": [
    {
     "name": "stdout",
     "output_type": "stream",
     "text": [
      "Myreduce Function :  45\n",
      "Inbuilt Reduce Function :  45\n"
     ]
    }
   ],
   "source": [
    "from functools import reduce\n",
    "def myreduce(function1 , list1):         \n",
    "    temp = list1[0]\n",
    "    for i in range(1,len(list1)):\n",
    "        temp = function1(temp, list1[i])\n",
    "    return temp\n",
    "\n",
    "\n",
    "print(\"Myreduce Function : \",myreduce(lambda x,y:x+y,[1,2,3,4,5,6,7,8,9])) \n",
    "print(\"Inbuilt Reduce Function : \",reduce(lambda x,y:x+y,[1,2,3,4,5,6,7,8,9]))"
   ]
  },
  {
   "cell_type": "markdown",
   "metadata": {},
   "source": [
    "## Q. 1.2"
   ]
  },
  {
   "cell_type": "code",
   "execution_count": 2,
   "metadata": {},
   "outputs": [
    {
     "name": "stdout",
     "output_type": "stream",
     "text": [
      "Myfilter Function :  [3, 4, 5, 7]\n",
      "Inbuilt Filter Function :  [3, 4, 5, 7]\n"
     ]
    }
   ],
   "source": [
    "def myfilter(function2, list2):\n",
    "    for i in list2:\n",
    "        if function2(i):\n",
    "            yield i\n",
    "\n",
    "print(\"Myfilter Function : \",list(myfilter(lambda x:True if x not in [1,2,6] else False,[1,2,3,4,5,6,7])))\n",
    "print(\"Inbuilt Filter Function : \",list(filter(lambda  x:True if x not in [1,2,6] else False,[1,2,3,4,5,6,7])))"
   ]
  },
  {
   "cell_type": "markdown",
   "metadata": {},
   "source": [
    "## Q.2"
   ]
  },
  {
   "cell_type": "code",
   "execution_count": 3,
   "metadata": {},
   "outputs": [
    {
     "name": "stdout",
     "output_type": "stream",
     "text": [
      "['A', 'C', 'A', 'D', 'G', 'I', 'L', 'D'] \n",
      "\n",
      "['x', 'xx', 'xxx', 'xxxx', 'y', 'yy', 'yyy', 'yyyy', 'z', 'zz', 'zzz', 'zzzz'] \n",
      "\n",
      "['x', 'y', 'z', 'xx', 'yy', 'zz', 'xxx', 'yyy', 'zzz', 'xxxx', 'yyyy', 'zzzz'] \n",
      "\n",
      "[[2], [3], [4], [3], [4], [5], [4], [5], [6]] \n",
      "\n",
      "[[2, 3, 4, 5], [3, 4, 5, 6], [4, 5, 6, 7], [5, 6, 7, 8]] \n",
      "\n",
      "[(1, 1), (2, 1), (3, 1), (1, 2), (2, 2), (3, 2), (1, 3), (2, 3), (3, 3)] \n",
      "\n"
     ]
    }
   ],
   "source": [
    "print([i for i in 'ACADGILD'],\"\\n\")\n",
    "\n",
    "print([i * j for i in 'xyz' for j in range(1,5)],\"\\n\")\n",
    "\n",
    "print([i * j for j in range(1,5) for i in 'xyz'],\"\\n\")\n",
    "\n",
    "matrix = [[2,3,4],[3,4,5],[4,5,6]]\n",
    "print([[matrix[i][j]] for i in range(3) for j in range(3)],\"\\n\")\n",
    "\n",
    "matrix = [[2,3,4,5],[3,4,5,6],[4,5,6,7],[5,6,7,8]]\n",
    "print([row for row in matrix],\"\\n\")\n",
    "\n",
    "print([(i,j) for j in range(1,4) for i in range(1,4) ],\"\\n\")"
   ]
  },
  {
   "cell_type": "markdown",
   "metadata": {},
   "source": [
    "## Q.3"
   ]
  },
  {
   "cell_type": "code",
   "execution_count": 4,
   "metadata": {},
   "outputs": [],
   "source": [
    "def longestWord(l):\n",
    "    maxi = l[0]\n",
    "    for i in l:\n",
    "        if len(maxi) < len(i):\n",
    "            maxi = i\n",
    "    return maxi\n"
   ]
  },
  {
   "cell_type": "code",
   "execution_count": 5,
   "metadata": {},
   "outputs": [
    {
     "data": {
      "text/plain": [
       "'Assignment_2_Solutions'"
      ]
     },
     "execution_count": 5,
     "metadata": {},
     "output_type": "execute_result"
    }
   ],
   "source": [
    "li = [\"Devendra\",\"Askhay\",\"Assignment_2_Solutions\",\"Last_Checkpoint\",\"Last_Wednesday\"]\n",
    "longestWord(li)"
   ]
  },
  {
   "cell_type": "markdown",
   "metadata": {},
   "source": [
    "# Task 2"
   ]
  },
  {
   "cell_type": "markdown",
   "metadata": {},
   "source": [
    "## Q. 1.1"
   ]
  },
  {
   "cell_type": "code",
   "execution_count": 6,
   "metadata": {},
   "outputs": [],
   "source": [
    "class Triangle:\n",
    "    def __init__(self, a, b, c):\n",
    "        self.a = a\n",
    "        self.b = b\n",
    "        self.c = c\n",
    "        \n",
    "        \n",
    "class AreaTri(Triangle):\n",
    "    def __init__(self, *args):\n",
    "        super(AreaTri, self).__init__(*args)\n",
    "\n",
    "    def area(self):\n",
    "        s = (self.a + self.b + self.c) / 2\n",
    "        area = (s * (s - self.a) * (s - self.b) * (s - self.c)) ** 0.5\n",
    "        return area\n",
    "\n"
   ]
  },
  {
   "cell_type": "code",
   "execution_count": 7,
   "metadata": {},
   "outputs": [
    {
     "name": "stdout",
     "output_type": "stream",
     "text": [
      "Area Of Triangle: 24.0 unit^2\n"
     ]
    }
   ],
   "source": [
    "Obj = AreaTri(6,8,10)\n",
    "print(\"Area Of Triangle:\",Obj.area(),\"unit^2\")"
   ]
  },
  {
   "cell_type": "markdown",
   "metadata": {},
   "source": [
    "## Q. 1.2"
   ]
  },
  {
   "cell_type": "code",
   "execution_count": 8,
   "metadata": {},
   "outputs": [],
   "source": [
    "def filter_long_words(l,n):\n",
    "    li=[]\n",
    "    for i in l:\n",
    "        if len(i)>n:\n",
    "            li.append(i)\n",
    "    return li\n"
   ]
  },
  {
   "cell_type": "code",
   "execution_count": 9,
   "metadata": {},
   "outputs": [
    {
     "data": {
      "text/plain": [
       "['Akshay', 'Aksha', 'Aksh']"
      ]
     },
     "execution_count": 9,
     "metadata": {},
     "output_type": "execute_result"
    }
   ],
   "source": [
    "l=[\"Akshay\",\"Aksha\",\"Aksh\",\"Aks\",\"Ak\",\"A\"]\n",
    "filter_long_words(l,3)"
   ]
  },
  {
   "cell_type": "markdown",
   "metadata": {},
   "source": [
    "## Q. 2.1"
   ]
  },
  {
   "cell_type": "code",
   "execution_count": 10,
   "metadata": {},
   "outputs": [],
   "source": [
    "def word_to_integer(lis):\n",
    "    return list(map(lambda x: len(x), lis))"
   ]
  },
  {
   "cell_type": "code",
   "execution_count": 11,
   "metadata": {},
   "outputs": [
    {
     "name": "stdout",
     "output_type": "stream",
     "text": [
      "[7, 9, 5, 8]\n"
     ]
    }
   ],
   "source": [
    "lis = [\"Physics\",\"Chemistry\",\"Maths\",\"Computer\"]\n",
    "print(word_to_integer(lis))"
   ]
  },
  {
   "cell_type": "markdown",
   "metadata": {},
   "source": [
    "## Q. 2.2"
   ]
  },
  {
   "cell_type": "code",
   "execution_count": 12,
   "metadata": {},
   "outputs": [],
   "source": [
    "def vowel(c):\n",
    "    if len(c) == 1:\n",
    "        return True if c in ['a', 'e', 'i', 'o', 'u', 'A', 'E', 'I', 'O', 'U'] else False\n",
    "    else:\n",
    "        print(c,\" is not a character!!!\")"
   ]
  },
  {
   "cell_type": "code",
   "execution_count": 13,
   "metadata": {},
   "outputs": [
    {
     "name": "stdout",
     "output_type": "stream",
     "text": [
      "Enter the Character:A\n"
     ]
    },
    {
     "data": {
      "text/plain": [
       "True"
      ]
     },
     "execution_count": 13,
     "metadata": {},
     "output_type": "execute_result"
    }
   ],
   "source": [
    "vowel(input(\"Enter the Character:\"))"
   ]
  },
  {
   "cell_type": "code",
   "execution_count": null,
   "metadata": {},
   "outputs": [],
   "source": []
  }
 ],
 "metadata": {
  "kernelspec": {
   "display_name": "Python 3",
   "language": "python",
   "name": "python3"
  },
  "language_info": {
   "codemirror_mode": {
    "name": "ipython",
    "version": 3
   },
   "file_extension": ".py",
   "mimetype": "text/x-python",
   "name": "python",
   "nbconvert_exporter": "python",
   "pygments_lexer": "ipython3",
   "version": "3.7.3"
  }
 },
 "nbformat": 4,
 "nbformat_minor": 2
}
